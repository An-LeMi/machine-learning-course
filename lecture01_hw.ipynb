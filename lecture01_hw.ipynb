{
  "nbformat": 4,
  "nbformat_minor": 0,
  "metadata": {
    "kernelspec": {
      "display_name": "Python 3",
      "language": "python",
      "name": "python3"
    },
    "language_info": {
      "codemirror_mode": {
        "name": "ipython",
        "version": 3
      },
      "file_extension": ".py",
      "mimetype": "text/x-python",
      "name": "python",
      "nbconvert_exporter": "python",
      "pygments_lexer": "ipython3",
      "version": "3.8.3"
    },
    "colab": {
      "name": "lecture01-hw.ipynb",
      "provenance": [],
      "include_colab_link": true
    }
  },
  "cells": [
    {
      "cell_type": "markdown",
      "metadata": {
        "id": "view-in-github",
        "colab_type": "text"
      },
      "source": [
        "<a href=\"https://colab.research.google.com/github/An-LeMi/machine-learning-course/blob/master/lecture01_hw.ipynb\" target=\"_parent\"><img src=\"https://colab.research.google.com/assets/colab-badge.svg\" alt=\"Open In Colab\"/></a>"
      ]
    },
    {
      "cell_type": "code",
      "metadata": {
        "id": "0WBmKW6374gJ",
        "outputId": "e1380081-8e38-4cc0-fbea-56e15f742cb2"
      },
      "source": [
        "# BT1: giải mã mật thư (data), lấy tất cả các chữ cái đầu của từng dòng rồi ghép lại để được 1 câu cụ thể.\n",
        "def decrypt(data):\n",
        "    code = ''\n",
        "    sentences = data.split(\"\\n\")\n",
        "    for i in range(1, len(sentences)-1):\n",
        "        word = sentences[i].split(' ')\n",
        "        code = code + word[0][0]\n",
        "    print(code)\n",
        "\n",
        "        \n",
        "data = '''\n",
        "Come to the\n",
        "River\n",
        "Of my\n",
        "Soulful\n",
        "Sentiments\n",
        "Meandering silently\n",
        "Yearning for release.\n",
        "Hasten\n",
        "Earnestly\n",
        "As my love flows by\n",
        "Rushing through the flood-gates\n",
        "To your heart.\n",
        "'''\n",
        "\n",
        "decrypt(data)"
      ],
      "execution_count": null,
      "outputs": [
        {
          "output_type": "stream",
          "text": [
            "CROSSMYHEART\n"
          ],
          "name": "stdout"
        }
      ]
    },
    {
      "cell_type": "code",
      "metadata": {
        "id": "KKjmX2kA74gK"
      },
      "source": [
        "# BT2: Tính tổng tất cả các số trong kết quả của phép tính 2**10000\n",
        "def sum(num):\n",
        "    compute = str(num)\n",
        "    result = 0\n",
        "    for i in range(len(compute)):\n",
        "        result += int(compute[i])\n",
        "    print(result)\n",
        "\n",
        "sum(2 ** 10000)"
      ],
      "execution_count": null,
      "outputs": []
    },
    {
      "cell_type": "code",
      "metadata": {
        "id": "zhcbD1q374gK",
        "outputId": "9670a5c7-8158-4fbf-e30c-0af44e53ae7f"
      },
      "source": [
        "# BT3: \n",
        "# Cách 1:\n",
        "import string\n",
        "\n",
        "def clean(sen):\n",
        "    result = ''\n",
        "    for i in range(len(sen)):\n",
        "        if(sen[i].isdigit() or sen[i] in string.punctuation):            \n",
        "            result = result\n",
        "        else: result = result + sen[i]\n",
        "    return result\n",
        "\n",
        "\n",
        "sentence = '''Ngư60ời 'theo hư@ơng' hoa 100mây mù [giăng lối]\n",
        "Làn 25 sương khó30i phôi phai 90 đưa bư$ớc ai xa rồi 35\n",
        "100Đơn c#ôi m99ình ta {vấn vương} hồi ức tro^ng ... men say (chiều mưa) buồ80n \n",
        "Ng~ăn \"giọt lệ\" ngừng k2hiến khoé mi sầu bi.1 '''\n",
        "\n",
        "print(clean(sen))"
      ],
      "execution_count": null,
      "outputs": [
        {
          "output_type": "stream",
          "text": [
            "Người theo hương hoa mây mù giăng lối\n",
            "Làn  sương khói phôi phai  đưa bước ai xa rồi \n",
            "Đơn côi mình ta vấn vương hồi ức trong  men say chiều mưa buồn \n",
            "Ngăn giọt lệ ngừng khiến khoé mi sầu bi \n",
            "\n",
            "Punctuation: !\"#$%&'()*+,-./:;<=>?@[\\]^_`{|}~: Là các kí tự đặc biệt\n",
            "\n"
          ],
          "name": "stdout"
        }
      ]
    },
    {
      "cell_type": "markdown",
      "metadata": {
        "id": "Y6Y12W3W74gK"
      },
      "source": [
        "String.punctuation là chỉ các kí tự đặc biệt"
      ]
    },
    {
      "cell_type": "code",
      "metadata": {
        "id": "oJyUv3LR74gK",
        "outputId": "9680b233-fd8d-4268-bd6e-9428d698704a"
      },
      "source": [
        "# BT3\n",
        "# Cách 2\n",
        "result2 = '''Ngư60ời 'theo hư@ơng' hoa 100mây mù [giăng lối]\n",
        "Làn 25 sương khó30i phôi phai 90 đưa bư$ớc ai xa rồi 35\n",
        "100Đơn c#ôi m99ình ta {vấn vương} hồi ức tro^ng ... men say (chiều mưa) buồ80n \n",
        "Ng~ăn \"giọt lệ\" ngừng k2hiến khoé mi sầu bi.1 '''\n",
        "result2 = ''.join([i for i in sentence if not i.isdigit()])\n",
        "out = result.translate(str.maketrans(\"\" ,\"\" , string.punctuation))\n",
        "print(out)"
      ],
      "execution_count": null,
      "outputs": [
        {
          "output_type": "stream",
          "text": [
            "Người theo hương hoa mây mù giăng lối\n",
            "Làn  sương khói phôi phai  đưa bước ai xa rồi \n",
            "Đơn côi mình ta vấn vương hồi ức trong  men say chiều mưa buồn \n",
            "Ngăn giọt lệ ngừng khiến khoé mi sầu bi \n"
          ],
          "name": "stdout"
        }
      ]
    },
    {
      "cell_type": "code",
      "metadata": {
        "id": "qKO2bXKR74gK",
        "outputId": "43566650-eddb-4e1e-84bb-049e023611a9"
      },
      "source": [
        "# BT4: a + 13 * b / c + d + 12 * e - f - 11 + g * h / i - 10 = 66\n",
        "# e <= 8, b = c, 1 <= e <= 6\n",
        "count_result = 0\n",
        "for a in range(0,10):\n",
        "    for d in range(0,10):\n",
        "        for e in range(1,7):\n",
        "            for f in range(0,10):\n",
        "                for g in range(0,10):\n",
        "                    for h in range(0,10):\n",
        "                        for i in range(1,10):\n",
        "                            if a + d + 12 * e - f  + g * h / i  == 74 or a + d + 12 * e - f + g * h /i == 87:\n",
        "                                count_result += 1\n",
        "count_result*9 # vì b = c nên count cần nhân 9 để chọn bộ b,c với c khác 0"
      ],
      "execution_count": null,
      "outputs": [
        {
          "output_type": "execute_result",
          "data": {
            "text/plain": [
              "549918"
            ]
          },
          "metadata": {
            "tags": []
          },
          "execution_count": 10
        }
      ]
    },
    {
      "cell_type": "code",
      "metadata": {
        "id": "iHtJzAfW74gK",
        "outputId": "5a4dc412-b400-402d-f942-ffad7dad380f"
      },
      "source": [
        "# BT5: a=1, b=2, c=3, ...\n",
        "dic = {}\n",
        "key = 1\n",
        "for char in string.ascii_lowercase:\n",
        "    dic[char] = key\n",
        "    key += 1\n",
        "print(dic)\n",
        "def sumword(word):\n",
        "    sum = 0\n",
        "    for i in range(len(word)-1):\n",
        "        sum += dic[word[i]]\n",
        "    return sum\n",
        "data_word = 'python,patience,documents,students,homework,practice,success,english,university,congratulation'\n",
        "data_word = data_word.split(',')\n",
        "for i in range(len(data_word)-1):\n",
        "    print(data_word[i], \":\" , sumword(data_word[i]))"
      ],
      "execution_count": null,
      "outputs": [
        {
          "output_type": "stream",
          "text": [
            "{'a': 1, 'b': 2, 'c': 3, 'd': 4, 'e': 5, 'f': 6, 'g': 7, 'h': 8, 'i': 9, 'j': 10, 'k': 11, 'l': 12, 'm': 13, 'n': 14, 'o': 15, 'p': 16, 'q': 17, 'r': 18, 's': 19, 't': 20, 'u': 21, 'v': 22, 'w': 23, 'x': 24, 'y': 25, 'z': 26}\n",
            "python : 84\n",
            "patience : 68\n",
            "documents : 95\n",
            "students : 103\n",
            "homework : 97\n",
            "practice : 70\n",
            "success : 70\n",
            "english : 66\n",
            "university : 137\n"
          ],
          "name": "stdout"
        }
      ]
    },
    {
      "cell_type": "code",
      "metadata": {
        "id": "r19SE0i774gL",
        "outputId": "8d53a3e8-11c0-4d94-d2b5-70d9260c7dd1"
      },
      "source": [
        "# BT6: Viết code sinh các số fibonanci dưới 1000, lưu giữ kq vào 1 list.\n",
        "fibo_list = []\n",
        "fibo_list.append(0)\n",
        "fibo_list.append(1)\n",
        "fibo_list.append(1)\n",
        "count = 2\n",
        "while(fibo_list[count] + fibo_list[count-1] < 1000):\n",
        "    fibo_list.append(fibo_list[count] + fibo_list[count-1])\n",
        "    count += 1\n",
        "print(fibo_list)"
      ],
      "execution_count": null,
      "outputs": [
        {
          "output_type": "stream",
          "text": [
            "[0, 1, 1, 2, 3, 5, 8, 13, 21, 34, 55, 89, 144, 233, 377, 610, 987]\n"
          ],
          "name": "stdout"
        }
      ]
    },
    {
      "cell_type": "code",
      "metadata": {
        "id": "Q77hYz_474gL",
        "outputId": "4333930a-d79c-4d21-e8f5-4ffabdbc35ea"
      },
      "source": [
        "# BT7: Viết code sinh các số nguyên tố dưới 10000, lưu giữ kq vào 1 list.\n",
        "prime = []\n",
        "def primenum(num): \n",
        "    for i in range(2,num):  \n",
        "        if (num % i) == 0:  \n",
        "            break   \n",
        "    else:  \n",
        "        prime.append(num)\n",
        "for i in range(2,10000):\n",
        "    primenum(i)\n",
        "print(prime)"
      ],
      "execution_count": null,
      "outputs": [
        {
          "output_type": "stream",
          "text": [
            "[2, 3, 5, 7, 11, 13, 17, 19, 23, 29, 31, 37, 41, 43, 47, 53, 59, 61, 67, 71, 73, 79, 83, 89, 97, 101, 103, 107, 109, 113, 127, 131, 137, 139, 149, 151, 157, 163, 167, 173, 179, 181, 191, 193, 197, 199, 211, 223, 227, 229, 233, 239, 241, 251, 257, 263, 269, 271, 277, 281, 283, 293, 307, 311, 313, 317, 331, 337, 347, 349, 353, 359, 367, 373, 379, 383, 389, 397, 401, 409, 419, 421, 431, 433, 439, 443, 449, 457, 461, 463, 467, 479, 487, 491, 499, 503, 509, 521, 523, 541, 547, 557, 563, 569, 571, 577, 587, 593, 599, 601, 607, 613, 617, 619, 631, 641, 643, 647, 653, 659, 661, 673, 677, 683, 691, 701, 709, 719, 727, 733, 739, 743, 751, 757, 761, 769, 773, 787, 797, 809, 811, 821, 823, 827, 829, 839, 853, 857, 859, 863, 877, 881, 883, 887, 907, 911, 919, 929, 937, 941, 947, 953, 967, 971, 977, 983, 991, 997, 1009, 1013, 1019, 1021, 1031, 1033, 1039, 1049, 1051, 1061, 1063, 1069, 1087, 1091, 1093, 1097, 1103, 1109, 1117, 1123, 1129, 1151, 1153, 1163, 1171, 1181, 1187, 1193, 1201, 1213, 1217, 1223, 1229, 1231, 1237, 1249, 1259, 1277, 1279, 1283, 1289, 1291, 1297, 1301, 1303, 1307, 1319, 1321, 1327, 1361, 1367, 1373, 1381, 1399, 1409, 1423, 1427, 1429, 1433, 1439, 1447, 1451, 1453, 1459, 1471, 1481, 1483, 1487, 1489, 1493, 1499, 1511, 1523, 1531, 1543, 1549, 1553, 1559, 1567, 1571, 1579, 1583, 1597, 1601, 1607, 1609, 1613, 1619, 1621, 1627, 1637, 1657, 1663, 1667, 1669, 1693, 1697, 1699, 1709, 1721, 1723, 1733, 1741, 1747, 1753, 1759, 1777, 1783, 1787, 1789, 1801, 1811, 1823, 1831, 1847, 1861, 1867, 1871, 1873, 1877, 1879, 1889, 1901, 1907, 1913, 1931, 1933, 1949, 1951, 1973, 1979, 1987, 1993, 1997, 1999, 2003, 2011, 2017, 2027, 2029, 2039, 2053, 2063, 2069, 2081, 2083, 2087, 2089, 2099, 2111, 2113, 2129, 2131, 2137, 2141, 2143, 2153, 2161, 2179, 2203, 2207, 2213, 2221, 2237, 2239, 2243, 2251, 2267, 2269, 2273, 2281, 2287, 2293, 2297, 2309, 2311, 2333, 2339, 2341, 2347, 2351, 2357, 2371, 2377, 2381, 2383, 2389, 2393, 2399, 2411, 2417, 2423, 2437, 2441, 2447, 2459, 2467, 2473, 2477, 2503, 2521, 2531, 2539, 2543, 2549, 2551, 2557, 2579, 2591, 2593, 2609, 2617, 2621, 2633, 2647, 2657, 2659, 2663, 2671, 2677, 2683, 2687, 2689, 2693, 2699, 2707, 2711, 2713, 2719, 2729, 2731, 2741, 2749, 2753, 2767, 2777, 2789, 2791, 2797, 2801, 2803, 2819, 2833, 2837, 2843, 2851, 2857, 2861, 2879, 2887, 2897, 2903, 2909, 2917, 2927, 2939, 2953, 2957, 2963, 2969, 2971, 2999, 3001, 3011, 3019, 3023, 3037, 3041, 3049, 3061, 3067, 3079, 3083, 3089, 3109, 3119, 3121, 3137, 3163, 3167, 3169, 3181, 3187, 3191, 3203, 3209, 3217, 3221, 3229, 3251, 3253, 3257, 3259, 3271, 3299, 3301, 3307, 3313, 3319, 3323, 3329, 3331, 3343, 3347, 3359, 3361, 3371, 3373, 3389, 3391, 3407, 3413, 3433, 3449, 3457, 3461, 3463, 3467, 3469, 3491, 3499, 3511, 3517, 3527, 3529, 3533, 3539, 3541, 3547, 3557, 3559, 3571, 3581, 3583, 3593, 3607, 3613, 3617, 3623, 3631, 3637, 3643, 3659, 3671, 3673, 3677, 3691, 3697, 3701, 3709, 3719, 3727, 3733, 3739, 3761, 3767, 3769, 3779, 3793, 3797, 3803, 3821, 3823, 3833, 3847, 3851, 3853, 3863, 3877, 3881, 3889, 3907, 3911, 3917, 3919, 3923, 3929, 3931, 3943, 3947, 3967, 3989, 4001, 4003, 4007, 4013, 4019, 4021, 4027, 4049, 4051, 4057, 4073, 4079, 4091, 4093, 4099, 4111, 4127, 4129, 4133, 4139, 4153, 4157, 4159, 4177, 4201, 4211, 4217, 4219, 4229, 4231, 4241, 4243, 4253, 4259, 4261, 4271, 4273, 4283, 4289, 4297, 4327, 4337, 4339, 4349, 4357, 4363, 4373, 4391, 4397, 4409, 4421, 4423, 4441, 4447, 4451, 4457, 4463, 4481, 4483, 4493, 4507, 4513, 4517, 4519, 4523, 4547, 4549, 4561, 4567, 4583, 4591, 4597, 4603, 4621, 4637, 4639, 4643, 4649, 4651, 4657, 4663, 4673, 4679, 4691, 4703, 4721, 4723, 4729, 4733, 4751, 4759, 4783, 4787, 4789, 4793, 4799, 4801, 4813, 4817, 4831, 4861, 4871, 4877, 4889, 4903, 4909, 4919, 4931, 4933, 4937, 4943, 4951, 4957, 4967, 4969, 4973, 4987, 4993, 4999, 5003, 5009, 5011, 5021, 5023, 5039, 5051, 5059, 5077, 5081, 5087, 5099, 5101, 5107, 5113, 5119, 5147, 5153, 5167, 5171, 5179, 5189, 5197, 5209, 5227, 5231, 5233, 5237, 5261, 5273, 5279, 5281, 5297, 5303, 5309, 5323, 5333, 5347, 5351, 5381, 5387, 5393, 5399, 5407, 5413, 5417, 5419, 5431, 5437, 5441, 5443, 5449, 5471, 5477, 5479, 5483, 5501, 5503, 5507, 5519, 5521, 5527, 5531, 5557, 5563, 5569, 5573, 5581, 5591, 5623, 5639, 5641, 5647, 5651, 5653, 5657, 5659, 5669, 5683, 5689, 5693, 5701, 5711, 5717, 5737, 5741, 5743, 5749, 5779, 5783, 5791, 5801, 5807, 5813, 5821, 5827, 5839, 5843, 5849, 5851, 5857, 5861, 5867, 5869, 5879, 5881, 5897, 5903, 5923, 5927, 5939, 5953, 5981, 5987, 6007, 6011, 6029, 6037, 6043, 6047, 6053, 6067, 6073, 6079, 6089, 6091, 6101, 6113, 6121, 6131, 6133, 6143, 6151, 6163, 6173, 6197, 6199, 6203, 6211, 6217, 6221, 6229, 6247, 6257, 6263, 6269, 6271, 6277, 6287, 6299, 6301, 6311, 6317, 6323, 6329, 6337, 6343, 6353, 6359, 6361, 6367, 6373, 6379, 6389, 6397, 6421, 6427, 6449, 6451, 6469, 6473, 6481, 6491, 6521, 6529, 6547, 6551, 6553, 6563, 6569, 6571, 6577, 6581, 6599, 6607, 6619, 6637, 6653, 6659, 6661, 6673, 6679, 6689, 6691, 6701, 6703, 6709, 6719, 6733, 6737, 6761, 6763, 6779, 6781, 6791, 6793, 6803, 6823, 6827, 6829, 6833, 6841, 6857, 6863, 6869, 6871, 6883, 6899, 6907, 6911, 6917, 6947, 6949, 6959, 6961, 6967, 6971, 6977, 6983, 6991, 6997, 7001, 7013, 7019, 7027, 7039, 7043, 7057, 7069, 7079, 7103, 7109, 7121, 7127, 7129, 7151, 7159, 7177, 7187, 7193, 7207, 7211, 7213, 7219, 7229, 7237, 7243, 7247, 7253, 7283, 7297, 7307, 7309, 7321, 7331, 7333, 7349, 7351, 7369, 7393, 7411, 7417, 7433, 7451, 7457, 7459, 7477, 7481, 7487, 7489, 7499, 7507, 7517, 7523, 7529, 7537, 7541, 7547, 7549, 7559, 7561, 7573, 7577, 7583, 7589, 7591, 7603, 7607, 7621, 7639, 7643, 7649, 7669, 7673, 7681, 7687, 7691, 7699, 7703, 7717, 7723, 7727, 7741, 7753, 7757, 7759, 7789, 7793, 7817, 7823, 7829, 7841, 7853, 7867, 7873, 7877, 7879, 7883, 7901, 7907, 7919, 7927, 7933, 7937, 7949, 7951, 7963, 7993, 8009, 8011, 8017, 8039, 8053, 8059, 8069, 8081, 8087, 8089, 8093, 8101, 8111, 8117, 8123, 8147, 8161, 8167, 8171, 8179, 8191, 8209, 8219, 8221, 8231, 8233, 8237, 8243, 8263, 8269, 8273, 8287, 8291, 8293, 8297, 8311, 8317, 8329, 8353, 8363, 8369, 8377, 8387, 8389, 8419, 8423, 8429, 8431, 8443, 8447, 8461, 8467, 8501, 8513, 8521, 8527, 8537, 8539, 8543, 8563, 8573, 8581, 8597, 8599, 8609, 8623, 8627, 8629, 8641, 8647, 8663, 8669, 8677, 8681, 8689, 8693, 8699, 8707, 8713, 8719, 8731, 8737, 8741, 8747, 8753, 8761, 8779, 8783, 8803, 8807, 8819, 8821, 8831, 8837, 8839, 8849, 8861, 8863, 8867, 8887, 8893, 8923, 8929, 8933, 8941, 8951, 8963, 8969, 8971, 8999, 9001, 9007, 9011, 9013, 9029, 9041, 9043, 9049, 9059, 9067, 9091, 9103, 9109, 9127, 9133, 9137, 9151, 9157, 9161, 9173, 9181, 9187, 9199, 9203, 9209, 9221, 9227, 9239, 9241, 9257, 9277, 9281, 9283, 9293, 9311, 9319, 9323, 9337, 9341, 9343, 9349, 9371, 9377, 9391, 9397, 9403, 9413, 9419, 9421, 9431, 9433, 9437, 9439, 9461, 9463, 9467, 9473, 9479, 9491, 9497, 9511, 9521, 9533, 9539, 9547, 9551, 9587, 9601, 9613, 9619, 9623, 9629, 9631, 9643, 9649, 9661, 9677, 9679, 9689, 9697, 9719, 9721, 9733, 9739, 9743, 9749, 9767, 9769, 9781, 9787, 9791, 9803, 9811, 9817, 9829, 9833, 9839, 9851, 9857, 9859, 9871, 9883, 9887, 9901, 9907, 9923, 9929, 9931, 9941, 9949, 9967, 9973]\n"
          ],
          "name": "stdout"
        }
      ]
    },
    {
      "cell_type": "code",
      "metadata": {
        "id": "bMdPUCHn74gL",
        "outputId": "47d9a991-c9ac-4ac4-b93c-eb2828487319"
      },
      "source": [
        "# BT8:\n",
        "# Loại bỏ các kí tự đặc biệt trong đoạn văn và chia đoạn văn thành các từ\n",
        "def split_word(para):\n",
        "    special_word = ['\\n', '. ', ', ', ')', '(','  ']\n",
        "    for i in special_word:\n",
        "        para = para.replace(i, \" \")\n",
        "    para = para.split(\" \")\n",
        "    return para\n",
        "\n",
        "# Đếm và sắp xếp số lần xuất hiện các từ trong đoạn\n",
        "def count_and_sort(dic_word, para):\n",
        "    for i in range(len(para)):\n",
        "        if para[i] in dic_word.keys():\n",
        "            count1 = dic_word.get(para[i])\n",
        "            dic_word[para[i]] = count1 + 1\n",
        "        else:\n",
        "            dic_word[para[i]] = 1\n",
        "    # Dictionary’s value sorted in keys.   \n",
        "    word_orders = sorted(dic_word.items(), key=lambda x: x[1], reverse=True)\n",
        "    dem = 0\n",
        "    for j in word_orders:\n",
        "        # 10 phần tử đầu tiên\n",
        "        if dem == 10: \n",
        "            break\n",
        "        print(j[0], j[1]) \n",
        "        dem += 1\n",
        "\n",
        "paragraph = '''Python is an easy to learn, powerful programming language. It has efficient high-level data structures and a simple but effective approach to object-oriented programming. Python’s elegant syntax and dynamic typing, together with its interpreted nature, make it an ideal language for scripting and rapid application development in many areas on most platforms.\n",
        "\n",
        "The Python interpreter and the extensive standard library are freely available in source or binary form for all major platforms from the Python Web site, https://www.python.org/, and may be freely distributed. The same site also contains distributions of and pointers to many free third party Python modules, programs and tools, and additional documentation.\n",
        "\n",
        "The Python interpreter is easily extended with new functions and data types implemented in C or C++ (or other languages callable from C). Python is also suitable as an extension language for customizable applications.\n",
        "\n",
        "This tutorial introduces the reader informally to the basic concepts and features of the Python language and system. It helps to have a Python interpreter handy for hands-on experience, but all examples are self-contained, so the tutorial can be read off-line as well.\n",
        "\n",
        "For a description of standard objects and modules, see The Python Standard Library. The Python Language Reference gives a more formal definition of the language. To write extensions in C or C++, read Extending and Embedding the Python Interpreter and Python/C API Reference Manual. There are also several books covering Python in depth.\n",
        "\n",
        "This tutorial does not attempt to be comprehensive and cover every single feature, or even every commonly used feature. Instead, it introduces many of Python’s most noteworthy features, and will give you a good idea of the language’s flavor and style. After reading it, you will be able to read and write Python modules and programs, and you will be ready to learn more about the various Python library modules described in The Python Standard Library.'''\n",
        "\n",
        "\n",
        "paragraph = split_word(paragraph)\n",
        "dic_word = {}\n",
        "count_and_sort(dic_word, paragraph)"
      ],
      "execution_count": null,
      "outputs": [
        {
          "output_type": "stream",
          "text": [
            "and 20\n",
            "Python 15\n",
            "the 10\n",
            "to 8\n",
            "in 6\n",
            "The 6\n",
            "of 6\n",
            "language 5\n",
            "a 5\n",
            "or 5\n"
          ],
          "name": "stdout"
        }
      ]
    },
    {
      "cell_type": "code",
      "metadata": {
        "id": "evTEvO5U74gL",
        "outputId": "67f5a018-a9bd-4d20-df90-00c82bce7d46"
      },
      "source": [
        "# BT9:\n",
        "L1 = [1, 2, 3, 4, 5, 6]\n",
        "L2 = [3, 4, 5, 6, 7, 8, 9, 10]\n",
        "s1 = set(L1)\n",
        "s2 = set(L2)\n",
        "\n",
        "print(\"Có trong cả A, B: \", s1.union(s2))\n",
        "print(\"Chỉ có trong A: \", s1.difference(s2))\n",
        "print(\"Chỉ có trong B: \", s2.difference(s1))\n",
        "print(\"Không có trong cả A và B: \", s1.symmetric_difference(s2))\n"
      ],
      "execution_count": null,
      "outputs": [
        {
          "output_type": "stream",
          "text": [
            "Có trong cả A, B:  {1, 2, 3, 4, 5, 6, 7, 8, 9, 10}\n",
            "Chỉ có trong A:  {1, 2}\n",
            "Chỉ có trong B:  {8, 9, 10, 7}\n",
            "Không có trong cả A và B:  {1, 2, 7, 8, 9, 10}\n"
          ],
          "name": "stdout"
        }
      ]
    },
    {
      "cell_type": "code",
      "metadata": {
        "id": "_ohg_LsR74gL",
        "outputId": "896d05e2-d969-4612-a087-cc1e95c048e0"
      },
      "source": [
        "# BT10: years = [(1900, \"Canh Tí\"), ... (2019, \"Kỷ Hợi\")]\n",
        "thien_can = \"Canh, Tân, Nhâm, Quý, Giáp, Ất, Bính, Đinh, Mậu, Kỷ\"\n",
        "dia_chi = \"Tí, Sửu, Dần, Mão, Thìn, Tỵ, Ngọ, Mùi, Thân, Dậu, Tuất, Hợi\"\n",
        "thien_can = split_word(thien_can)\n",
        "dia_chi = split_word(dia_chi)\n",
        "\n",
        "# Init dictionary\n",
        "dict_can = {}\n",
        "dict_chi = {}\n",
        "year = {}\n",
        "\n",
        "# Diction thiên can, địa chi\n",
        "for i in range(len(thien_can)):\n",
        "    dict_can[i] = thien_can[i]\n",
        "for i in range(len(dia_chi)):\n",
        "    dict_chi[i] = dia_chi[i]\n",
        "\n",
        "canchi = ''\n",
        "for i in range(1900, 2021):\n",
        "    can = dict_can[i%10]\n",
        "    if i < 2000:\n",
        "        a = i % 100\n",
        "        chi = dict_chi[a%12]\n",
        "    else: \n",
        "        a = i - 2000 + 100\n",
        "        chi = dict_chi[a%12]\n",
        "    year[i] = can + ' ' + chi\n",
        "year"
      ],
      "execution_count": null,
      "outputs": [
        {
          "output_type": "execute_result",
          "data": {
            "text/plain": [
              "{1900: 'Canh Tí',\n",
              " 1901: 'Tân Sửu',\n",
              " 1902: 'Nhâm Dần',\n",
              " 1903: 'Quý Mão',\n",
              " 1904: 'Giáp Thìn',\n",
              " 1905: 'Ất Tỵ',\n",
              " 1906: 'Bính Ngọ',\n",
              " 1907: 'Đinh Mùi',\n",
              " 1908: 'Mậu Thân',\n",
              " 1909: 'Kỷ Dậu',\n",
              " 1910: 'Canh Tuất',\n",
              " 1911: 'Tân Hợi',\n",
              " 1912: 'Nhâm Tí',\n",
              " 1913: 'Quý Sửu',\n",
              " 1914: 'Giáp Dần',\n",
              " 1915: 'Ất Mão',\n",
              " 1916: 'Bính Thìn',\n",
              " 1917: 'Đinh Tỵ',\n",
              " 1918: 'Mậu Ngọ',\n",
              " 1919: 'Kỷ Mùi',\n",
              " 1920: 'Canh Thân',\n",
              " 1921: 'Tân Dậu',\n",
              " 1922: 'Nhâm Tuất',\n",
              " 1923: 'Quý Hợi',\n",
              " 1924: 'Giáp Tí',\n",
              " 1925: 'Ất Sửu',\n",
              " 1926: 'Bính Dần',\n",
              " 1927: 'Đinh Mão',\n",
              " 1928: 'Mậu Thìn',\n",
              " 1929: 'Kỷ Tỵ',\n",
              " 1930: 'Canh Ngọ',\n",
              " 1931: 'Tân Mùi',\n",
              " 1932: 'Nhâm Thân',\n",
              " 1933: 'Quý Dậu',\n",
              " 1934: 'Giáp Tuất',\n",
              " 1935: 'Ất Hợi',\n",
              " 1936: 'Bính Tí',\n",
              " 1937: 'Đinh Sửu',\n",
              " 1938: 'Mậu Dần',\n",
              " 1939: 'Kỷ Mão',\n",
              " 1940: 'Canh Thìn',\n",
              " 1941: 'Tân Tỵ',\n",
              " 1942: 'Nhâm Ngọ',\n",
              " 1943: 'Quý Mùi',\n",
              " 1944: 'Giáp Thân',\n",
              " 1945: 'Ất Dậu',\n",
              " 1946: 'Bính Tuất',\n",
              " 1947: 'Đinh Hợi',\n",
              " 1948: 'Mậu Tí',\n",
              " 1949: 'Kỷ Sửu',\n",
              " 1950: 'Canh Dần',\n",
              " 1951: 'Tân Mão',\n",
              " 1952: 'Nhâm Thìn',\n",
              " 1953: 'Quý Tỵ',\n",
              " 1954: 'Giáp Ngọ',\n",
              " 1955: 'Ất Mùi',\n",
              " 1956: 'Bính Thân',\n",
              " 1957: 'Đinh Dậu',\n",
              " 1958: 'Mậu Tuất',\n",
              " 1959: 'Kỷ Hợi',\n",
              " 1960: 'Canh Tí',\n",
              " 1961: 'Tân Sửu',\n",
              " 1962: 'Nhâm Dần',\n",
              " 1963: 'Quý Mão',\n",
              " 1964: 'Giáp Thìn',\n",
              " 1965: 'Ất Tỵ',\n",
              " 1966: 'Bính Ngọ',\n",
              " 1967: 'Đinh Mùi',\n",
              " 1968: 'Mậu Thân',\n",
              " 1969: 'Kỷ Dậu',\n",
              " 1970: 'Canh Tuất',\n",
              " 1971: 'Tân Hợi',\n",
              " 1972: 'Nhâm Tí',\n",
              " 1973: 'Quý Sửu',\n",
              " 1974: 'Giáp Dần',\n",
              " 1975: 'Ất Mão',\n",
              " 1976: 'Bính Thìn',\n",
              " 1977: 'Đinh Tỵ',\n",
              " 1978: 'Mậu Ngọ',\n",
              " 1979: 'Kỷ Mùi',\n",
              " 1980: 'Canh Thân',\n",
              " 1981: 'Tân Dậu',\n",
              " 1982: 'Nhâm Tuất',\n",
              " 1983: 'Quý Hợi',\n",
              " 1984: 'Giáp Tí',\n",
              " 1985: 'Ất Sửu',\n",
              " 1986: 'Bính Dần',\n",
              " 1987: 'Đinh Mão',\n",
              " 1988: 'Mậu Thìn',\n",
              " 1989: 'Kỷ Tỵ',\n",
              " 1990: 'Canh Ngọ',\n",
              " 1991: 'Tân Mùi',\n",
              " 1992: 'Nhâm Thân',\n",
              " 1993: 'Quý Dậu',\n",
              " 1994: 'Giáp Tuất',\n",
              " 1995: 'Ất Hợi',\n",
              " 1996: 'Bính Tí',\n",
              " 1997: 'Đinh Sửu',\n",
              " 1998: 'Mậu Dần',\n",
              " 1999: 'Kỷ Mão',\n",
              " 2000: 'Canh Thìn',\n",
              " 2001: 'Tân Tỵ',\n",
              " 2002: 'Nhâm Ngọ',\n",
              " 2003: 'Quý Mùi',\n",
              " 2004: 'Giáp Thân',\n",
              " 2005: 'Ất Dậu',\n",
              " 2006: 'Bính Tuất',\n",
              " 2007: 'Đinh Hợi',\n",
              " 2008: 'Mậu Tí',\n",
              " 2009: 'Kỷ Sửu',\n",
              " 2010: 'Canh Dần',\n",
              " 2011: 'Tân Mão',\n",
              " 2012: 'Nhâm Thìn',\n",
              " 2013: 'Quý Tỵ',\n",
              " 2014: 'Giáp Ngọ',\n",
              " 2015: 'Ất Mùi',\n",
              " 2016: 'Bính Thân',\n",
              " 2017: 'Đinh Dậu',\n",
              " 2018: 'Mậu Tuất',\n",
              " 2019: 'Kỷ Hợi',\n",
              " 2020: 'Canh Tí'}"
            ]
          },
          "metadata": {
            "tags": []
          },
          "execution_count": 119
        }
      ]
    }
  ]
}